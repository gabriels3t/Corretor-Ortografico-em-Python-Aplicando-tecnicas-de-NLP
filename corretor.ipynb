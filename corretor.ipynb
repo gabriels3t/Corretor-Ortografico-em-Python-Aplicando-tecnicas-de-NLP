{
  "nbformat": 4,
  "nbformat_minor": 0,
  "metadata": {
    "colab": {
      "name": "corretor.ipynb",
      "provenance": []
    },
    "kernelspec": {
      "name": "python3",
      "display_name": "Python 3"
    }
  },
  "cells": [
    {
      "cell_type": "markdown",
      "metadata": {
        "id": "E7WnK62pdMsR"
      },
      "source": [
        "# Importação"
      ]
    },
    {
      "cell_type": "code",
      "metadata": {
        "id": "vo2pwUasYcav"
      },
      "source": [
        "import nltk"
      ],
      "execution_count": 16,
      "outputs": []
    },
    {
      "cell_type": "markdown",
      "metadata": {
        "id": "O5L9WwYiXEO5"
      },
      "source": [
        "# Abrindo o texto"
      ]
    },
    {
      "cell_type": "code",
      "metadata": {
        "id": "zqagVv36VSSL"
      },
      "source": [
        "with open('data/artigos.txt','r') as  f:\n",
        "  artigos = f.read()"
      ],
      "execution_count": 2,
      "outputs": []
    },
    {
      "cell_type": "code",
      "metadata": {
        "colab": {
          "base_uri": "https://localhost:8080/"
        },
        "id": "EzSoD6kcXBre",
        "outputId": "a8fc7902-2f47-40f4-ca3f-1e4b6ff24a09"
      },
      "source": [
        "print(artigos[:500])"
      ],
      "execution_count": 3,
      "outputs": [
        {
          "output_type": "stream",
          "text": [
            "\n",
            "\n",
            "\n",
            "imagem \n",
            "\n",
            "Temos a seguinte classe que representa um usuário no nosso sistema:\n",
            "\n",
            "java\n",
            "\n",
            "Para salvar um novo usuário, várias validações são feitas, como por exemplo: Ver se o nome só contém letras, [**o CPF só números**] e ver se o usuário possui no mínimo 18 anos. Veja o método que faz essa validação:\n",
            "\n",
            "java \n",
            "\n",
            "Suponha agora que eu tenha outra classe, a classe `Produto`, que contém um atributo nome e eu quero fazer a mesma validação que fiz para o nome do usuário: Ver se só contém letras. E aí? Vou\n"
          ],
          "name": "stdout"
        }
      ]
    },
    {
      "cell_type": "markdown",
      "metadata": {
        "id": "lz85SA3oXjZU"
      },
      "source": [
        "# Tokenização"
      ]
    },
    {
      "cell_type": "markdown",
      "metadata": {
        "id": "7NpgL3pcgCa3"
      },
      "source": [
        "**Teste com exemplo**"
      ]
    },
    {
      "cell_type": "code",
      "metadata": {
        "colab": {
          "base_uri": "https://localhost:8080/"
        },
        "id": "wkO6i3wFXlbV",
        "outputId": "fd4b3ec8-0185-4cbd-ae12-3160e7a2c39c"
      },
      "source": [
        "len(artigos)"
      ],
      "execution_count": 4,
      "outputs": [
        {
          "output_type": "execute_result",
          "data": {
            "text/plain": [
              "2605046"
            ]
          },
          "metadata": {
            "tags": []
          },
          "execution_count": 4
        }
      ]
    },
    {
      "cell_type": "code",
      "metadata": {
        "colab": {
          "base_uri": "https://localhost:8080/"
        },
        "id": "XIf7xaKaX7Wy",
        "outputId": "db8b82c7-1504-48c1-91f8-cdb2585d839f"
      },
      "source": [
        "len('Olá')"
      ],
      "execution_count": 6,
      "outputs": [
        {
          "output_type": "execute_result",
          "data": {
            "text/plain": [
              "3"
            ]
          },
          "metadata": {
            "tags": []
          },
          "execution_count": 6
        }
      ]
    },
    {
      "cell_type": "code",
      "metadata": {
        "colab": {
          "base_uri": "https://localhost:8080/"
        },
        "id": "MaIpPCm0YFrk",
        "outputId": "4159a0f4-cd79-441a-e982-990c38820c44"
      },
      "source": [
        "texto_exemplo ='Olá, tudo bem?'\n",
        "tokens = texto_exemplo.split()\n",
        "print(len(tokens))"
      ],
      "execution_count": 14,
      "outputs": [
        {
          "output_type": "stream",
          "text": [
            "3\n"
          ],
          "name": "stdout"
        }
      ]
    },
    {
      "cell_type": "code",
      "metadata": {
        "colab": {
          "base_uri": "https://localhost:8080/"
        },
        "id": "2uk3XhWAYZtS",
        "outputId": "0bbf39a7-ca78-420e-d817-cea918186426"
      },
      "source": [
        "print(tokens)"
      ],
      "execution_count": 15,
      "outputs": [
        {
          "output_type": "stream",
          "text": [
            "['Olá,', 'tudo', 'bem?']\n"
          ],
          "name": "stdout"
        }
      ]
    },
    {
      "cell_type": "markdown",
      "metadata": {
        "id": "pQP-Qt2ud0YH"
      },
      "source": [
        "**instalando o nltk**"
      ]
    },
    {
      "cell_type": "code",
      "metadata": {
        "colab": {
          "base_uri": "https://localhost:8080/"
        },
        "id": "G8SYYa60d319",
        "outputId": "cb22c995-8b70-4a3e-8982-a6bd1a3f90eb"
      },
      "source": [
        "nltk.download('punkt')"
      ],
      "execution_count": 18,
      "outputs": [
        {
          "output_type": "stream",
          "text": [
            "[nltk_data] Downloading package punkt to /root/nltk_data...\n",
            "[nltk_data]   Unzipping tokenizers/punkt.zip.\n"
          ],
          "name": "stdout"
        },
        {
          "output_type": "execute_result",
          "data": {
            "text/plain": [
              "True"
            ]
          },
          "metadata": {
            "tags": []
          },
          "execution_count": 18
        }
      ]
    },
    {
      "cell_type": "code",
      "metadata": {
        "colab": {
          "base_uri": "https://localhost:8080/"
        },
        "id": "Rh0xGvoWdYtu",
        "outputId": "f92ad51d-3246-48f1-da72-62190ef6e10d"
      },
      "source": [
        "palavras_separadas = nltk.tokenize.word_tokenize(texto_exemplo)\n",
        "print(palavras_separadas)"
      ],
      "execution_count": 20,
      "outputs": [
        {
          "output_type": "stream",
          "text": [
            "['Olá', ',', 'tudo', 'bem', '?']\n"
          ],
          "name": "stdout"
        }
      ]
    },
    {
      "cell_type": "code",
      "metadata": {
        "colab": {
          "base_uri": "https://localhost:8080/"
        },
        "id": "fseRLkMWeCjm",
        "outputId": "8c8e3c7d-cb24-4c6c-c658-fd75e20b9224"
      },
      "source": [
        "len(palavras_separadas)"
      ],
      "execution_count": 21,
      "outputs": [
        {
          "output_type": "execute_result",
          "data": {
            "text/plain": [
              "5"
            ]
          },
          "metadata": {
            "tags": []
          },
          "execution_count": 21
        }
      ]
    },
    {
      "cell_type": "code",
      "metadata": {
        "colab": {
          "base_uri": "https://localhost:8080/"
        },
        "id": "rqU5JgrMelHg",
        "outputId": "52b2255b-a0bd-4e93-c22a-4f993a65cb92"
      },
      "source": [
        "'Olá'.isalpha()"
      ],
      "execution_count": 26,
      "outputs": [
        {
          "output_type": "execute_result",
          "data": {
            "text/plain": [
              "True"
            ]
          },
          "metadata": {
            "tags": []
          },
          "execution_count": 26
        }
      ]
    },
    {
      "cell_type": "markdown",
      "metadata": {
        "id": "J2GBsw5WgIDC"
      },
      "source": [
        "**Função**"
      ]
    },
    {
      "cell_type": "code",
      "metadata": {
        "id": "YQar_KuXeZCZ"
      },
      "source": [
        "def separa_palavras(lista_token):\n",
        "  lista_palavras = []\n",
        "  for token in lista_token:\n",
        "    if token.isalpha():\n",
        "      lista_palavras.append(token)\n",
        "  return lista_palavras\n"
      ],
      "execution_count": 29,
      "outputs": []
    },
    {
      "cell_type": "code",
      "metadata": {
        "colab": {
          "base_uri": "https://localhost:8080/"
        },
        "id": "buuQP-MQfNCh",
        "outputId": "a7163226-14d3-40bd-9587-43835a60524b"
      },
      "source": [
        "separa_palavras(palavras_separadas)"
      ],
      "execution_count": 31,
      "outputs": [
        {
          "output_type": "execute_result",
          "data": {
            "text/plain": [
              "['Olá', 'tudo', 'bem']"
            ]
          },
          "metadata": {
            "tags": []
          },
          "execution_count": 31
        }
      ]
    },
    {
      "cell_type": "markdown",
      "metadata": {
        "id": "zRCiimNogOij"
      },
      "source": [
        "**Fazendo o token**"
      ]
    },
    {
      "cell_type": "code",
      "metadata": {
        "colab": {
          "base_uri": "https://localhost:8080/"
        },
        "id": "3U3cg3UKfgw5",
        "outputId": "a5dca84a-df1a-4e93-f06b-8086e11aa0ba"
      },
      "source": [
        "lista_de_token = nltk.tokenize.word_tokenize(artigos)\n",
        "lista_palavras = separa_palavras(lista_de_token)\n",
        "print(f'O numeo de palavras é {len(lista_palavras)} ')"
      ],
      "execution_count": 33,
      "outputs": [
        {
          "output_type": "stream",
          "text": [
            "O numeo de palavras é 393914 \n"
          ],
          "name": "stdout"
        }
      ]
    },
    {
      "cell_type": "markdown",
      "metadata": {
        "id": "VEbubBRrgh3I"
      },
      "source": [
        "# Normalizando \n",
        "### Retirando palavras repetidas e colocando tudo em minusculo"
      ]
    },
    {
      "cell_type": "code",
      "metadata": {
        "colab": {
          "base_uri": "https://localhost:8080/"
        },
        "id": "yheURK3RgAZj",
        "outputId": "047ea745-fa04-48ff-8f4d-d8c5f2307c9e"
      },
      "source": [
        "print(lista_palavras[:5])\n"
      ],
      "execution_count": 34,
      "outputs": [
        {
          "output_type": "stream",
          "text": [
            "['imagem', 'Temos', 'a', 'seguinte', 'classe']\n"
          ],
          "name": "stdout"
        }
      ]
    },
    {
      "cell_type": "code",
      "metadata": {
        "id": "9lqxXakPg8Wc"
      },
      "source": [
        "def normalizacao(lista_palavras):\n",
        "  lista_normalizada = []\n",
        "  for palavra in lista_palavras:\n",
        "\n",
        "    lista_normalizada.append(palavra.lower())\n",
        "  return lista_normalizada"
      ],
      "execution_count": 35,
      "outputs": []
    },
    {
      "cell_type": "code",
      "metadata": {
        "id": "vcTH-50thbPP"
      },
      "source": [
        "lista_normalizada = normalizacao(lista_palavras)"
      ],
      "execution_count": 36,
      "outputs": []
    },
    {
      "cell_type": "code",
      "metadata": {
        "colab": {
          "base_uri": "https://localhost:8080/"
        },
        "id": "8Wr0kpR9hiD1",
        "outputId": "30b311ae-a1ea-40dc-ee72-4e82b4f53515"
      },
      "source": [
        "print(lista_normalizada[:5])"
      ],
      "execution_count": 37,
      "outputs": [
        {
          "output_type": "stream",
          "text": [
            "['imagem', 'temos', 'a', 'seguinte', 'classe']\n"
          ],
          "name": "stdout"
        }
      ]
    },
    {
      "cell_type": "code",
      "metadata": {
        "colab": {
          "base_uri": "https://localhost:8080/"
        },
        "id": "zf2MQmwfh59R",
        "outputId": "33e9c58a-a91e-431d-e1c3-dedea7c68675"
      },
      "source": [
        "set([1,2,3,3,3,3,4,5,6,6]) # set retira as repetições"
      ],
      "execution_count": 38,
      "outputs": [
        {
          "output_type": "execute_result",
          "data": {
            "text/plain": [
              "{1, 2, 3, 4, 5, 6}"
            ]
          },
          "metadata": {
            "tags": []
          },
          "execution_count": 38
        }
      ]
    },
    {
      "cell_type": "code",
      "metadata": {
        "colab": {
          "base_uri": "https://localhost:8080/"
        },
        "id": "T6strA-riFMM",
        "outputId": "43f97118-edb3-463d-cf32-0eee54f04f18"
      },
      "source": [
        "print(f'Numero de tipos de palavras é {len(set(lista_normalizada))}')"
      ],
      "execution_count": 42,
      "outputs": [
        {
          "output_type": "stream",
          "text": [
            "Numero de tipos de palavras é 17652\n"
          ],
          "name": "stdout"
        }
      ]
    },
    {
      "cell_type": "code",
      "metadata": {
        "id": "2Nl9x5dUiYcp"
      },
      "source": [
        ""
      ],
      "execution_count": null,
      "outputs": []
    }
  ]
}